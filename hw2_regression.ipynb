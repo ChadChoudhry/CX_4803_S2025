{
  "cells": [
    {
      "cell_type": "markdown",
      "metadata": {
        "id": "ej3lp7nYUZ5F"
      },
      "source": [
        "# Regression Practice Problem (15 points)\n",
        "\n",
        "In this notebook, we are going to work on a regression problem.\n",
        "\n",
        "We will use a diabete dataset for practice. Each data sample in the dataset contains 10 features. The goal is to predict the target that measures the desease progression. We are going to implement a linear regression model to predict the target.\n",
        "\n",
        "First run the following cell to download the training and test data. We will train our model on the training data and make predictions on the test set. The prediction results will be used for grading."
      ]
    },
    {
      "cell_type": "code",
      "execution_count": 4,
      "metadata": {
        "colab": {
          "base_uri": "https://localhost:8080/"
        },
        "collapsed": true,
        "id": "R07XZd9tlqSt",
        "outputId": "51eb5581-95b2-4cc4-9258-1388723388cf"
      },
      "outputs": [
        {
          "name": "stdout",
          "output_type": "stream",
          "text": [
            "--2025-02-08 18:11:42--  https://drive.google.com/uc?export=download&id=1IQPZ2qKWCMJ8SF0mRHnbLUFm7mTrdIyP\n",
            "Resolving drive.google.com (drive.google.com)... 142.250.4.139, 142.250.4.101, 142.250.4.102, ...\n",
            "Connecting to drive.google.com (drive.google.com)|142.250.4.139|:443... connected.\n",
            "HTTP request sent, awaiting response... 303 See Other\n",
            "Location: https://drive.usercontent.google.com/download?id=1IQPZ2qKWCMJ8SF0mRHnbLUFm7mTrdIyP&export=download [following]\n",
            "--2025-02-08 18:11:43--  https://drive.usercontent.google.com/download?id=1IQPZ2qKWCMJ8SF0mRHnbLUFm7mTrdIyP&export=download\n",
            "Resolving drive.usercontent.google.com (drive.usercontent.google.com)... 74.125.24.132, 2404:6800:4003:c03::84\n",
            "Connecting to drive.usercontent.google.com (drive.usercontent.google.com)|74.125.24.132|:443... connected.\n",
            "HTTP request sent, awaiting response... 200 OK\n",
            "Length: 15996 (16K) [application/octet-stream]\n",
            "Saving to: ‘reg_test.csv’\n",
            "\n",
            "reg_test.csv        100%[===================>]  15.62K  --.-KB/s    in 0s      \n",
            "\n",
            "2025-02-08 18:11:46 (106 MB/s) - ‘reg_test.csv’ saved [15996/15996]\n",
            "\n",
            "--2025-02-08 18:11:46--  https://drive.google.com/uc?export=download&id=1E5SOWL76HRHchZPf2j-H0KgQkW7sYQfy\n",
            "Resolving drive.google.com (drive.google.com)... 142.250.4.139, 142.250.4.101, 142.250.4.102, ...\n",
            "Connecting to drive.google.com (drive.google.com)|142.250.4.139|:443... connected.\n",
            "HTTP request sent, awaiting response... 303 See Other\n",
            "Location: https://drive.usercontent.google.com/download?id=1E5SOWL76HRHchZPf2j-H0KgQkW7sYQfy&export=download [following]\n",
            "--2025-02-08 18:11:46--  https://drive.usercontent.google.com/download?id=1E5SOWL76HRHchZPf2j-H0KgQkW7sYQfy&export=download\n",
            "Resolving drive.usercontent.google.com (drive.usercontent.google.com)... 74.125.24.132, 2404:6800:4003:c03::84\n",
            "Connecting to drive.usercontent.google.com (drive.usercontent.google.com)|74.125.24.132|:443... connected.\n",
            "HTTP request sent, awaiting response... 200 OK\n",
            "Length: 74624 (73K) [application/octet-stream]\n",
            "Saving to: ‘reg_train.csv’\n",
            "\n",
            "reg_train.csv       100%[===================>]  72.88K  --.-KB/s    in 0.001s  \n",
            "\n",
            "2025-02-08 18:11:49 (139 MB/s) - ‘reg_train.csv’ saved [74624/74624]\n",
            "\n"
          ]
        }
      ],
      "source": [
        "!wget https://drive.google.com/uc\\?export\\=download\\&id\\=1IQPZ2qKWCMJ8SF0mRHnbLUFm7mTrdIyP -O reg_test.csv\n",
        "!wget https://drive.google.com/uc\\?export\\=download\\&id\\=1E5SOWL76HRHchZPf2j-H0KgQkW7sYQfy -O reg_train.csv"
      ]
    },
    {
      "cell_type": "code",
      "execution_count": 5,
      "metadata": {
        "id": "dQ-gYABQn5Tg"
      },
      "outputs": [],
      "source": [
        "# export\n",
        "import matplotlib.pyplot as plt\n",
        "import numpy as np\n",
        "import pandas as pd\n",
        "import sklearn\n",
        "from sklearn import datasets\n",
        "from sklearn import feature_selection\n",
        "import random"
      ]
    },
    {
      "cell_type": "markdown",
      "metadata": {
        "id": "9qW7kyHsUZ5H"
      },
      "source": [
        "Load the training data and take a look at the features and targets."
      ]
    },
    {
      "cell_type": "code",
      "execution_count": 6,
      "metadata": {
        "colab": {
          "base_uri": "https://localhost:8080/"
        },
        "id": "Odeih5X_peWy",
        "outputId": "089d006f-1019-4574-afd9-90163ad57541"
      },
      "outputs": [
        {
          "name": "stdout",
          "output_type": "stream",
          "text": [
            "          age       sex       bmi        bp        s1        s2        s3  \\\n",
            "0    0.038076  0.050680  0.061696  0.021872 -0.044223 -0.034821 -0.043401   \n",
            "1   -0.001882 -0.044642 -0.051474 -0.026328 -0.008449 -0.019163  0.074412   \n",
            "2    0.085299  0.050680  0.044451 -0.005670 -0.045599 -0.034194 -0.032356   \n",
            "3   -0.089063 -0.044642 -0.011595 -0.036656  0.012191  0.024991 -0.036038   \n",
            "4   -0.092695 -0.044642 -0.040696 -0.019442 -0.068991 -0.079288  0.041277   \n",
            "..        ...       ...       ...       ...       ...       ...       ...   \n",
            "357  0.009016 -0.044642  0.055229 -0.005670  0.057597  0.044719 -0.002903   \n",
            "358 -0.056370 -0.044642 -0.074108 -0.050427 -0.024960 -0.047034  0.092820   \n",
            "359 -0.005515  0.050680 -0.015906 -0.067642  0.049341  0.079165 -0.028674   \n",
            "360  0.041708  0.050680 -0.015906  0.017293 -0.037344 -0.013840 -0.024993   \n",
            "361 -0.045472 -0.044642  0.039062  0.001215  0.016318  0.015283 -0.028674   \n",
            "\n",
            "           s4        s5        s6  \n",
            "0   -0.002592  0.019907 -0.017646  \n",
            "1   -0.039493 -0.068332 -0.092204  \n",
            "2   -0.002592  0.002861 -0.025930  \n",
            "3    0.034309  0.022688 -0.009362  \n",
            "4   -0.076395 -0.041176 -0.096346  \n",
            "..        ...       ...       ...  \n",
            "357  0.023239  0.055686  0.106617  \n",
            "358 -0.076395 -0.061176 -0.046641  \n",
            "359  0.034309 -0.018114  0.044485  \n",
            "360 -0.011080 -0.046883  0.015491  \n",
            "361  0.026560  0.044529 -0.025930  \n",
            "\n",
            "[362 rows x 10 columns]\n",
            "0      151.0\n",
            "1       75.0\n",
            "2      141.0\n",
            "3      206.0\n",
            "4       97.0\n",
            "       ...  \n",
            "357    173.0\n",
            "358     48.0\n",
            "359    104.0\n",
            "360    132.0\n",
            "361    220.0\n",
            "Name: target, Length: 362, dtype: float64\n"
          ]
        }
      ],
      "source": [
        "df = pd.read_csv('reg_train.csv')\n",
        "X = df.iloc[:,0:10]\n",
        "y = df.iloc[:,10]\n",
        "\n",
        "print(X)\n",
        "print(y)"
      ]
    },
    {
      "cell_type": "markdown",
      "metadata": {
        "id": "flVV6_HoUZ5H"
      },
      "source": [
        "## Task 1: Exploring the features (1 point)\n",
        "\n",
        "Check the correlations between each feature and the target"
      ]
    },
    {
      "cell_type": "code",
      "execution_count": 7,
      "metadata": {
        "colab": {
          "base_uri": "https://localhost:8080/"
        },
        "id": "WvCrPf98UZ5H",
        "outputId": "e070b306-7234-4243-bf92-b8c338cb1214"
      },
      "outputs": [
        {
          "name": "stdout",
          "output_type": "stream",
          "text": [
            "age    0.151423\n",
            "sex    0.040111\n",
            "bmi    0.570065\n",
            "bp     0.436597\n",
            "s1     0.248854\n",
            "s2     0.196076\n",
            "s3    -0.378994\n",
            "s4     0.438475\n",
            "s5     0.555471\n",
            "s6     0.385137\n",
            "dtype: float64\n"
          ]
        }
      ],
      "source": [
        "correlation = X.corrwith(y)\n",
        "print(correlation)"
      ]
    },
    {
      "cell_type": "code",
      "execution_count": 8,
      "metadata": {
        "id": "vaiUQzvMpeY-"
      },
      "outputs": [],
      "source": [
        "def PlotDataset(x, y, feature):\n",
        "    '''\n",
        "    x: the dataset feature matrix. (pd dataframe)\n",
        "    y: the target vector (pd series)\n",
        "    feature: the feature to visualize (type: str)\n",
        "\n",
        "    '''\n",
        "    plt.scatter(x.loc[:,[feature]], y,  color='blue', alpha=0.5)\n",
        "    plt.xlabel(feature)\n",
        "    plt.ylabel('Diabetes Progression')"
      ]
    },
    {
      "cell_type": "markdown",
      "metadata": {
        "id": "PfIwmmmWUZ5H"
      },
      "source": [
        "Visualize the three features with highest correlation to the target in the following cells. Replace `feature_*` with your selection."
      ]
    },
    {
      "cell_type": "code",
      "execution_count": 9,
      "metadata": {
        "colab": {
          "base_uri": "https://localhost:8080/",
          "height": 449
        },
        "id": "E3RVLzobpecr",
        "outputId": "ad3a36b6-6ac0-4a74-c80e-7365bb106a94"
      },
      "outputs": [
        {
          "data": {
            "image/png": "[encoded data removed]",
            "text/plain": [
              "<Figure size 640x480 with 1 Axes>"
            ]
          },
          "metadata": {},
          "output_type": "display_data"
        }
      ],
      "source": [
        "PlotDataset(X, y, 'bmi')"
      ]
    },
    {
      "cell_type": "code",
      "execution_count": 10,
      "metadata": {
        "colab": {
          "base_uri": "https://localhost:8080/",
          "height": 449
        },
        "id": "h0bshoFApeem",
        "outputId": "80777933-56fe-4efe-ebf7-b7e0c613b3f7"
      },
      "outputs": [
        {
          "data": {
            "image/png": "[encoded data removed]",
            "text/plain": [
              "<Figure size 640x480 with 1 Axes>"
            ]
          },
          "metadata": {},
          "output_type": "display_data"
        }
      ],
      "source": [
        "PlotDataset(X, y, 's5')"
      ]
    },
    {
      "cell_type": "code",
      "execution_count": 11,
      "metadata": {
        "colab": {
          "base_uri": "https://localhost:8080/",
          "height": 449
        },
        "id": "orOQC5aJpegu",
        "outputId": "7cff9d65-8730-427d-b42a-492e4be852b8"
      },
      "outputs": [
        {
          "data": {
            "image/png": "[encoded data removed]",
            "text/plain": [
              "<Figure size 640x480 with 1 Axes>"
            ]
          },
          "metadata": {},
          "output_type": "display_data"
        }
      ],
      "source": [
        "PlotDataset(X, y, 's4')"
      ]
    },
    {
      "cell_type": "markdown",
      "metadata": {
        "id": "zCZMRGgEUZ5I"
      },
      "source": [
        "Put your selected feature names in the following function as the answer for task 1."
      ]
    },
    {
      "cell_type": "code",
      "execution_count": 12,
      "metadata": {
        "colab": {
          "base_uri": "https://localhost:8080/"
        },
        "id": "F0mzrSJnUZ5I",
        "outputId": "98d21d55-5a36-4aa2-f01d-5f81cff090be"
      },
      "outputs": [
        {
          "data": {
            "text/plain": [
              "['bmi', 's5', 's4']"
            ]
          },
          "execution_count": 12,
          "metadata": {},
          "output_type": "execute_result"
        }
      ],
      "source": [
        "# export\n",
        "def answer_task1():\n",
        "    feature_1 = 'bmi'\n",
        "    feature_2 = 's5'\n",
        "    feature_3 = 's4'\n",
        "\n",
        "    return [feature_1, feature_2, feature_3]\n",
        "answer_task1()"
      ]
    },
    {
      "cell_type": "markdown",
      "metadata": {
        "id": "FnRKJk49UZ5I"
      },
      "source": [
        "## Task 2: Split the data for training and validation (2 points)\n",
        "\n",
        "Before start building and training our model, we need to split a small fraction of our available data as the validation set, which will be used to evaluate the performance of our model and tune the hyperparameters.\n",
        "\n",
        "In the next cell, you will complete a function that randomly split the dataset to training and validation sets."
      ]
    },
    {
      "cell_type": "code",
      "execution_count": null,
      "metadata": {
        "colab": {
          "base_uri": "https://localhost:8080/"
        },
        "id": "MtZeeIEOpeip",
        "outputId": "71675318-9b07-4927-a42a-0e644f646033"
      },
      "outputs": [
        {
          "name": "stdout",
          "output_type": "stream",
          "text": [
            "X_train: (289, 10), y_train: (289,), X_test: (73, 10), y_test: (73,)\n"
          ]
        },
        {
          "data": {
            "text/plain": [
              "(array([[-0.0382074 ,  0.05068012,  0.07139652, ...,  0.071948  ,\n",
              "          0.05028067,  0.06933812],\n",
              "        [-0.06363517, -0.04464164, -0.03315126, ..., -0.00259226,\n",
              "         -0.02251653, -0.05906719],\n",
              "        [-0.04910502, -0.04464164,  0.0250506 , ..., -0.03949338,\n",
              "         -0.04117617,  0.00720652],\n",
              "        ...,\n",
              "        [-0.02367725, -0.04464164, -0.01590626, ...,  0.03430886,\n",
              "          0.0140735 , -0.00936191],\n",
              "        [-0.02730979, -0.04464164, -0.06656343, ..., -0.03949338,\n",
              "         -0.03581619, -0.00936191],\n",
              "        [ 0.01628068,  0.05068012,  0.07247433, ..., -0.00259226,\n",
              "         -0.02364686,  0.06105391]]),\n",
              " array([220., 214., 182., 341.,  74., 310., 273.,  90., 280.,  63.,  49.,\n",
              "        158.,  72.,  85.,  59., 268., 217.,  58.,  67.,  64., 139.,  66.,\n",
              "        197., 132.,  89., 253.,  55., 248., 125., 109., 150., 220., 168.,\n",
              "        259., 163., 138., 111., 173., 167., 242., 241.,  71.,  71., 180.,\n",
              "        137.,  97.,  59., 310., 219.,  51.,  71.,  84., 150., 116.,  90.,\n",
              "        128.,  52.,  55., 246., 200., 123., 110., 115., 264.,  99., 178.,\n",
              "         88.,  86., 152., 230., 191., 174.,  51., 143.,  60., 172., 212.,\n",
              "         92., 107.,  85., 237.,  71.,  61., 178., 127., 208., 199., 121.,\n",
              "        115., 131.,  84., 258., 138.,  70., 281.,  65., 214., 171., 186.,\n",
              "        109., 281., 220., 245.,  93.,  65., 216.,  94.,  60., 161.,  79.,\n",
              "        346., 139.,  84., 185., 206.,  43.,  63., 102.,  75., 220., 101.,\n",
              "        122., 120., 308., 200.,  81.,  51.,  78., 124.,  90., 174., 100.,\n",
              "         88., 200., 144.,  39., 145.,  94., 219., 113., 274., 128., 258.,\n",
              "        121.,  48., 152.,  42., 202.,  80., 102., 147., 175., 321., 201.,\n",
              "         87.,  97., 248., 129.,  70.,  74., 249., 214.,  55., 198.,  61.,\n",
              "        283., 103., 200., 102., 104.,  48.,  53., 229., 272.,  77.,  83.,\n",
              "        202., 184., 114.,  83.,  78., 111., 182., 168.,  91.,  66.,  39.,\n",
              "         65., 277., 198., 124., 104., 178., 243., 181., 261., 103., 137.,\n",
              "        142., 116.,  68., 156., 162.,  83., 182.,  91., 236., 151., 183.,\n",
              "         97., 179., 142.,  42., 141., 109., 275., 122.,  87.,  67.,  68.,\n",
              "        209.,  75.,  85., 166., 268.,  95., 206., 235.,  25., 129., 265.,\n",
              "        279.,  90., 160., 140., 270., 257., 202., 245.,  52.,  77.,  63.,\n",
              "        128.,  52., 141., 118.,  99., 131., 232., 185.,  92., 146., 202.,\n",
              "        142., 144.,  72., 144.,  63., 242.,  88., 233., 197., 127., 252.,\n",
              "        306., 172., 259., 283.,  59., 151., 258., 140., 200.,  93., 144.,\n",
              "        275., 275., 281.,  72.,  73., 134.,  37., 153., 113.,  64., 101.,\n",
              "        151.,  77., 131.]),\n",
              " array([[-0.04183994,  0.05068012, -0.02991782, -0.00222757,  0.02182224,\n",
              "          0.03657709,  0.01182372, -0.00259226, -0.04117617,  0.06519601],\n",
              "        [ 0.04170844,  0.05068012, -0.01590626,  0.01729339, -0.03734373,\n",
              "         -0.01383982, -0.02499266, -0.01107952, -0.04688253,  0.01549073],\n",
              "        [ 0.01991321, -0.04464164,  0.00457217,  0.04597234, -0.01808039,\n",
              "         -0.05454912,  0.06336665, -0.03949338,  0.02865846,  0.06105391],\n",
              "        [ 0.06713621, -0.04464164,  0.05630715,  0.07351515, -0.01395254,\n",
              "         -0.03920484, -0.03235593, -0.00259226,  0.07574055,  0.03620126],\n",
              "        [-0.02730979, -0.04464164,  0.06492964, -0.00222757, -0.02496016,\n",
              "         -0.01728445,  0.02286863, -0.03949338, -0.0611758 , -0.0632093 ],\n",
              "        [-0.03457486,  0.05068012, -0.00081689,  0.0700723 ,  0.03970963,\n",
              "          0.06695249, -0.06549067,  0.1081111 ,  0.02671684,  0.07348023],\n",
              "        [-0.00188202, -0.04464164, -0.03854032,  0.02187239, -0.10889328,\n",
              "         -0.11561307,  0.02286863, -0.0763945 , -0.04688253,  0.02377494],\n",
              "        [ 0.11072668,  0.05068012, -0.03315126, -0.02288468, -0.00432087,\n",
              "          0.02029337, -0.06180903,  0.07120998,  0.01556846,  0.04448548],\n",
              "        [ 0.01991321,  0.05068012,  0.01427248,  0.0631866 ,  0.01494247,\n",
              "          0.02029337, -0.04708248,  0.03430886,  0.04666178,  0.09004865],\n",
              "        [-0.09269548, -0.04464164,  0.02828403, -0.01599898,  0.03695772,\n",
              "          0.02499059,  0.05600338, -0.03949338, -0.00514219, -0.0010777 ],\n",
              "        [-0.00188202, -0.04464164,  0.05415152, -0.0665056 ,  0.07273249,\n",
              "          0.05661859, -0.04340085,  0.08486339,  0.08449153,  0.04862759],\n",
              "        [-0.05637009, -0.04464164,  0.09295276, -0.01944183,  0.01494247,\n",
              "          0.02342485, -0.02867429,  0.02545259,  0.02606052,  0.04034337],\n",
              "        [-0.06000263,  0.05068012,  0.04984027,  0.01842953, -0.01670444,\n",
              "         -0.03012354, -0.01762938, -0.00259226,  0.0497702 , -0.05906719],\n",
              "        [-0.00188202, -0.04464164,  0.03367309,  0.12515791,  0.02457414,\n",
              "          0.02624319, -0.01026611, -0.00259226,  0.02671684,  0.06105391],\n",
              "        [ 0.05987114,  0.05068012,  0.05307371,  0.05285804,  0.03282986,\n",
              "          0.01966707, -0.01026611,  0.03430886,  0.0552031 , -0.0010777 ],\n",
              "        [ 0.0090156 ,  0.05068012,  0.06924089,  0.05974375,  0.01769438,\n",
              "         -0.02323427, -0.04708248,  0.03430886,  0.10329702,  0.07348023],\n",
              "        [ 0.03444337, -0.04464164, -0.00728377,  0.01498668, -0.0442235 ,\n",
              "         -0.03732595, -0.00290283, -0.03949338, -0.02139531,  0.00720652],\n",
              "        [ 0.03444337,  0.05068012, -0.00189471, -0.01255612,  0.03833367,\n",
              "          0.01371725,  0.0780932 , -0.03949338,  0.0045477 , -0.09634616],\n",
              "        [ 0.01991321,  0.05068012, -0.01267283,  0.0700723 , -0.01120063,\n",
              "          0.00714113, -0.03971921,  0.03430886,  0.00538633,  0.00306441],\n",
              "        [ 0.05260606,  0.05068012, -0.02452876,  0.0563009 , -0.00707277,\n",
              "         -0.00507166, -0.02131102, -0.00259226,  0.02671684, -0.03835666],\n",
              "        [ 0.02717829,  0.05068012, -0.03530688,  0.03220094, -0.01120063,\n",
              "          0.00150446, -0.01026611, -0.00259226, -0.01495969, -0.05078298],\n",
              "        [ 0.06713621,  0.05068012, -0.02560657, -0.04009893, -0.06348684,\n",
              "         -0.05987264, -0.00290283, -0.03949338, -0.01919845,  0.01134862],\n",
              "        [-0.07090025,  0.05068012, -0.08919748, -0.07452744, -0.04284755,\n",
              "         -0.02573946, -0.03235593, -0.00259226, -0.01290868, -0.05492509],\n",
              "        [-0.00551455, -0.04464164,  0.0433734 ,  0.08728655,  0.01356652,\n",
              "          0.00714113, -0.01394774, -0.00259226,  0.04234098, -0.01764613],\n",
              "        [-0.00551455,  0.05068012, -0.03315126, -0.01599898,  0.00806271,\n",
              "          0.01622244,  0.01550536, -0.00259226, -0.02832317, -0.07563562],\n",
              "        [ 0.01628068, -0.04464164, -0.06332999, -0.05731319, -0.05798303,\n",
              "         -0.04891244,  0.00814208, -0.03949338, -0.05947118, -0.06735141],\n",
              "        [ 0.06713621,  0.05068012, -0.02991782,  0.05743704, -0.00019301,\n",
              "         -0.01571871,  0.07441156, -0.05056372, -0.03845972,  0.00720652],\n",
              "        [ 0.00175052,  0.05068012,  0.02612841, -0.00911327,  0.02457414,\n",
              "          0.03845598, -0.02131102,  0.03430886,  0.00943366,  0.00306441],\n",
              "        [-0.00551455,  0.05068012, -0.04177375, -0.04354178, -0.07999827,\n",
              "         -0.07615636, -0.03235593, -0.03949338,  0.01022672, -0.00936191],\n",
              "        [ 0.00175052, -0.04464164, -0.00836158, -0.06419889, -0.03871969,\n",
              "         -0.02448686,  0.00446045, -0.03949338, -0.06468531, -0.05492509],\n",
              "        [-0.01277963, -0.04464164,  0.06061839,  0.05285804,  0.04796534,\n",
              "          0.02937467, -0.01762938,  0.03430886,  0.07020738,  0.00720652],\n",
              "        [-0.00914709, -0.04464164,  0.01103904, -0.05731319, -0.02496016,\n",
              "         -0.04296262,  0.03023191, -0.03949338,  0.01703607, -0.0052198 ],\n",
              "        [-0.00188202,  0.05068012,  0.07139652,  0.09761511,  0.08786798,\n",
              "          0.0754075 , -0.02131102,  0.07120998,  0.07142887,  0.02377494],\n",
              "        [-0.01277963, -0.04464164, -0.06548562, -0.06994845,  0.00118295,\n",
              "          0.01684873, -0.00290283, -0.0070204 , -0.03074792, -0.05078298],\n",
              "        [-0.02730979,  0.05068012, -0.01590626, -0.02977038,  0.00393485,\n",
              "         -0.00068758,  0.04127682, -0.03949338, -0.02364686,  0.01134862],\n",
              "        [ 0.06350368, -0.04464164, -0.05039625,  0.10794366,  0.03145391,\n",
              "          0.01935392, -0.01762938,  0.02360753,  0.05803805,  0.04034337],\n",
              "        [-0.02367725,  0.05068012,  0.04552903,  0.02187239,  0.10988322,\n",
              "          0.08887288,  0.00077881,  0.03430886,  0.0741909 ,  0.06105391],\n",
              "        [ 0.05260606, -0.04464164, -0.00405033, -0.03090652, -0.0469754 ,\n",
              "         -0.0583069 , -0.01394774, -0.02583997,  0.03606033,  0.02377494],\n",
              "        [ 0.04534098,  0.05068012, -0.03530688,  0.0631866 , -0.00432087,\n",
              "         -0.00162703, -0.01026611, -0.00259226,  0.01556846,  0.0569118 ],\n",
              "        [-0.02730979,  0.05068012,  0.06061839,  0.10794366,  0.01219057,\n",
              "         -0.0175976 , -0.00290283, -0.00259226,  0.07020738,  0.13561183],\n",
              "        [ 0.08166637,  0.05068012,  0.00672779, -0.00453428,  0.10988322,\n",
              "          0.11705624, -0.03235593,  0.09187461,  0.05471997,  0.00720652],\n",
              "        [ 0.02354575,  0.05068012, -0.03961813, -0.00567042, -0.04835136,\n",
              "         -0.03325502,  0.01182372, -0.03949338, -0.10163996, -0.06735141],\n",
              "        [ 0.06350368, -0.04464164,  0.01750591,  0.02187239,  0.00806271,\n",
              "          0.02154596, -0.03603757,  0.03430886,  0.01990749,  0.01134862],\n",
              "        [-0.06000263,  0.05068012,  0.05415152, -0.01944183, -0.04972731,\n",
              "         -0.04891244,  0.02286863, -0.03949338, -0.04398377, -0.0052198 ],\n",
              "        [ 0.06713621, -0.04464164, -0.06117437, -0.04009893, -0.02633611,\n",
              "         -0.02448686,  0.03391355, -0.03949338, -0.0561531 , -0.05906719],\n",
              "        [-0.02730979, -0.04464164,  0.04768465, -0.04698463,  0.03420581,\n",
              "          0.05724488, -0.08021722,  0.13025177,  0.04506655,  0.13146972],\n",
              "        [ 0.07076875,  0.05068012, -0.00728377,  0.04941519,  0.06034892,\n",
              "         -0.00444536, -0.05444576,  0.1081111 ,  0.12902125,  0.0569118 ],\n",
              "        [ 0.01264814, -0.04464164, -0.02560657, -0.04009893, -0.03046397,\n",
              "         -0.04515466,  0.0780932 , -0.0763945 , -0.07213275,  0.01134862],\n",
              "        [-0.05637009, -0.04464164, -0.08057499, -0.08485599, -0.03734373,\n",
              "         -0.0370128 ,  0.03391355, -0.03949338, -0.0561531 , -0.13776723],\n",
              "        [-0.02367725, -0.04464164, -0.06548562, -0.08141314, -0.03871969,\n",
              "         -0.05360967,  0.05968501, -0.0763945 , -0.03712884, -0.04249877],\n",
              "        [ 0.03081083, -0.04464164,  0.04013997,  0.076958  ,  0.01769438,\n",
              "          0.03782968, -0.02867429,  0.03430886, -0.00149595,  0.1190434 ],\n",
              "        [ 0.00538306, -0.04464164,  0.05846277, -0.04354178, -0.07311851,\n",
              "         -0.07239858,  0.019187  , -0.0763945 , -0.05140387, -0.02593034],\n",
              "        [-0.07816532,  0.05068012,  0.07786339,  0.05285804,  0.07823631,\n",
              "          0.0644473 ,  0.02655027, -0.00259226,  0.04067283, -0.00936191],\n",
              "        [ 0.07440129, -0.04464164,  0.03151747,  0.10105796,  0.04658939,\n",
              "          0.03689023,  0.01550536, -0.00259226,  0.03365381,  0.04448548],\n",
              "        [ 0.00175052,  0.05068012,  0.01103904, -0.01944183, -0.01670444,\n",
              "         -0.00381907, -0.04708248,  0.03430886,  0.02405509,  0.02377494],\n",
              "        [-0.05637009, -0.04464164, -0.01159501, -0.03321323, -0.0469754 ,\n",
              "         -0.04765985,  0.00446045, -0.03949338, -0.00797714, -0.08806194],\n",
              "        [ 0.02354575, -0.04464164,  0.01966154, -0.01255612,  0.08374012,\n",
              "          0.03876913,  0.06336665, -0.00259226,  0.06605067,  0.04862759],\n",
              "        [ 0.03444337,  0.05068012, -0.02991782,  0.00465813,  0.09337179,\n",
              "          0.08699399,  0.03391355, -0.00259226,  0.02405509, -0.03835666],\n",
              "        [ 0.04170844,  0.05068012, -0.03207344, -0.02288468, -0.04972731,\n",
              "         -0.04014429,  0.03023191, -0.03949338, -0.12609712,  0.01549073],\n",
              "        [-0.05273755,  0.05068012, -0.04069594, -0.06764174, -0.03183992,\n",
              "         -0.0370128 ,  0.03759519, -0.03949338, -0.03452178,  0.06933812],\n",
              "        [ 0.03807591,  0.05068012, -0.00943939,  0.00235142,  0.00118295,\n",
              "          0.03751653, -0.05444576,  0.05017634, -0.02595311,  0.10661708],\n",
              "        [-0.02004471, -0.04464164, -0.08488624, -0.02632753, -0.03596778,\n",
              "         -0.03419447,  0.04127682, -0.05167075, -0.08237869, -0.04664087],\n",
              "        [-0.05273755,  0.05068012,  0.03906215, -0.04009893, -0.00569682,\n",
              "         -0.01290037,  0.01182372, -0.03949338,  0.01630682,  0.00306441],\n",
              "        [ 0.03081083,  0.05068012,  0.05954058,  0.0563009 , -0.02220825,\n",
              "          0.00119131, -0.03235593, -0.00259226, -0.02479543, -0.01764613],\n",
              "        [ 0.01264814, -0.04464164, -0.03638469,  0.04252949, -0.01395254,\n",
              "          0.01293438, -0.02683348,  0.00515697, -0.04398377,  0.00720652],\n",
              "        [ 0.01628068, -0.04464164, -0.02884001, -0.00911327, -0.00432087,\n",
              "         -0.00976889,  0.04495846, -0.03949338, -0.03074792, -0.04249877],\n",
              "        [ 0.03081083,  0.05068012, -0.00836158,  0.00465813,  0.01494247,\n",
              "          0.02749578,  0.00814208, -0.00812743, -0.02952643,  0.0569118 ],\n",
              "        [ 0.0090156 ,  0.05068012, -0.00189471,  0.02187239, -0.03871969,\n",
              "         -0.02480001, -0.00658447, -0.03949338, -0.03980883, -0.01350402],\n",
              "        [-0.07453279, -0.04464164, -0.046085  , -0.04354178, -0.02908802,\n",
              "         -0.02323427,  0.01550536, -0.03949338, -0.03980883, -0.02178823],\n",
              "        [ 0.03444337,  0.05068012, -0.00943939,  0.05974375, -0.03596778,\n",
              "         -0.00757685, -0.07653559,  0.07120998,  0.01101066, -0.02178823],\n",
              "        [-0.04183994, -0.04464164,  0.12852056,  0.0631866 , -0.03321588,\n",
              "         -0.03262872,  0.01182372, -0.03949338, -0.01599887, -0.05078298],\n",
              "        [-0.04183994, -0.04464164,  0.04121778, -0.02632753, -0.03183992,\n",
              "         -0.03043668, -0.03603757,  0.00294291,  0.03365381, -0.01764613],\n",
              "        [ 0.02717829,  0.05068012,  0.09403057,  0.09761511, -0.03459183,\n",
              "         -0.03200243, -0.04340085, -0.00259226,  0.03664373,  0.10661708]]),\n",
              " array([118., 132., 191., 303.,  95., 292.,  40., 168., 297., 302., 192.,\n",
              "        128., 221., 270., 163., 277., 155., 109.,  91., 110.,  53.,  71.,\n",
              "        104., 195.,  54.,  65., 108., 196., 178.,  31., 215., 276., 252.,\n",
              "         96.,  53., 189., 272., 198., 185., 243., 131.,  78., 173., 187.,\n",
              "         89., 317., 248.,  98.,  72.,  59., 155., 136., 233., 296., 111.,\n",
              "        190., 262.,  69., 104.,  42.,  81.,  90.,  85., 263.,  50., 179.,\n",
              "        177.,  44.,  69., 257., 259.,  52., 263.]))"
            ]
          },
          "execution_count": 13,
          "metadata": {},
          "output_type": "execute_result"
        }
      ],
      "source": [
        "# export\n",
        "\n",
        "seed = 0\n",
        "def set_seed(seed):\n",
        "    random.seed(seed)\n",
        "    np.random.seed(seed)\n",
        "\n",
        "# train test split\n",
        "def random_split(X, y, seed=0, train_ratio=0.8):\n",
        "    '''\n",
        "    X: the dataset feature matrix. (pd dataframe)\n",
        "    y: the target vector (pd series)\n",
        "    seed: random seed\n",
        "    train_ratio: the ratio of the training set, default is 0.8\n",
        "    '''\n",
        "    set_seed(seed)\n",
        "    ##########################################################\n",
        "    # generate a random permutation of the indices from 0 to len(X)\n",
        "    indices = np.random.permutation(len(X))\n",
        "    # Hint: check the documentation related to numpy.random\n",
        "    ##########################################################\n",
        "    train_indices = indices[:int(len(X) * train_ratio)]\n",
        "    test_indices = indices[int(len(X) * train_ratio):]\n",
        "    X_train = X.loc[train_indices].to_numpy()\n",
        "    y_train = y.loc[train_indices].to_numpy()\n",
        "    X_test = X.loc[test_indices].to_numpy()\n",
        "    y_test = y.loc[test_indices].to_numpy()\n",
        "    print(f'X_train: {X_train.shape}, y_train: {y_train.shape}, X_test: {X_test.shape}, y_test: {y_test.shape}')\n",
        "    return X_train, y_train, X_test, y_test"
      ]
    },
    {
      "cell_type": "markdown",
      "metadata": {
        "id": "xrkjtmNRUZ5I"
      },
      "source": [
        "## Task 3: Linear regression and gradient descent (8 points)\n",
        "\n",
        "Next we will implement the linear regression model. A linear regression model is defined as $Y=X\\theta$. Complete the function `linear_model` that computes $Y$ using $X$ and $\\theta$.\n",
        "\n",
        "To train a linear regression model, we adopt the mean squared error (MSE) as the loss function and aim to minimize it. Complete the function `mse` that computes the mean squared error between the predictions and ground truths. Note that $L_{MSE}=\\frac{1}{2n}\\Vert X\\theta - Y\\Vert_2^2$.\n",
        "\n",
        "Then, to use gradient descent algorithm for training, we need to compute the gradient of the MSE loss with respect to parameter $\\theta$. Differentiating $L_{MSE}$ with respect to $\\theta$, we can have $\\frac{\\partial L_{MSE}}{\\partial \\theta} = \\frac{1}{n} X^\\top (X\\theta - Y)$."
      ]
    },
    {
      "cell_type": "code",
      "execution_count": null,
      "metadata": {
        "colab": {
          "base_uri": "https://localhost:8080/"
        },
        "id": "OM-jA5XHpekZ",
        "outputId": "a684e545-8443-4eb1-a090-7aa1341d7a0b"
      },
      "outputs": [
        {
          "name": "stdout",
          "output_type": "stream",
          "text": [
            "[ 5 11]\n",
            "1.0\n",
            "[128. 169. 210.]\n"
          ]
        }
      ],
      "source": [
        "# export\n",
        "\n",
        "def linear_model(X, theta):\n",
        "    '''\n",
        "    X: nxd feature matrix (np.array)\n",
        "    theta: weight vector of length d (np.array)\n",
        "    '''\n",
        "    ##########################################################\n",
        "    # implement the linear model\n",
        "    output = np.dot(X,theta)\n",
        "    ##########################################################\n",
        "    return output\n",
        "print(linear_model(X=np.array([[1,2],[3,4]]),theta=np.array([1,2])))\n",
        "\n",
        "def mse(y_true, y_pred):\n",
        "    '''\n",
        "    y_true: ground truth target vector (np.array)\n",
        "    y_pred: predicted target vector (np.array)\n",
        "    '''\n",
        "    ##########################################################\n",
        "    # implement the mean squared error\n",
        "    output = np.mean(np.square(y_true - y_pred))\n",
        "    ##########################################################\n",
        "\n",
        "    return output\n",
        "print(mse(np.array([1,2,3]),np.array([2,3,4])))\n",
        "\n",
        "def mse_grad(theta, X, y_true):\n",
        "    '''\n",
        "    theta: weight vector of length d (np.array)\n",
        "    X: nxd feature matrix (np.array)\n",
        "    y_true: ground truth target vector (np.array)\n",
        "    '''\n",
        "    ##########################################################\n",
        "    # implement the gradient of the mean squared error\n",
        "    grad = -2 * np.dot(X.T, (y_true - np.dot(X, theta))) / len(y_true)\n",
        "    ##########################################################\n",
        "\n",
        "    return grad\n",
        "print(mse_grad(np.array([1,2,3]),np.array([[1,2,3],[4,5,6]]),np.array([2,3])))"
      ]
    },
    {
      "cell_type": "markdown",
      "metadata": {
        "id": "XY2pDTZfUZ5I"
      },
      "source": [
        "Next implement the gradient descent algorithm in the following."
      ]
    },
    {
      "cell_type": "code",
      "execution_count": null,
      "metadata": {
        "id": "w8Y3lCpXpemf"
      },
      "outputs": [],
      "source": [
        "# export\n",
        "\n",
        "learning_rate = 4e-1\n",
        "num_epochs = 8000\n",
        "log_interval = 500\n",
        "epsilon = 1e-3\n",
        "\n",
        "def gradient_descent(X_train, y_train):\n",
        "    X_train = np.hstack([X_train, np.ones((X_train.shape[0], 1))])\n",
        "    theta = np.random.rand(X_train.shape[1])\n",
        "\n",
        "    for epoch in range(num_epochs):\n",
        "        theta_prev = theta.copy()\n",
        "        ##########################################################\n",
        "        # update theta using a gradient descent step\n",
        "        grad = mse_grad(theta, X_train, y_train)\n",
        "        theta = theta - (learning_rate * grad)\n",
        "        ##########################################################\n",
        "        if epoch % log_interval == 0:\n",
        "            train_loss = mse(y_train, linear_model(X_train, theta))\n",
        "            print(f'Epoch {epoch} / {num_epochs}, training loss: {train_loss}')\n",
        "        if np.linalg.norm(theta - theta_prev) < epsilon:\n",
        "            print(f'Training converged at epoch {epoch}')\n",
        "            break\n",
        "    return theta"
      ]
    },
    {
      "cell_type": "code",
      "execution_count": 21,
      "metadata": {
        "id": "GDzB-cvepeon"
      },
      "outputs": [],
      "source": [
        "def evaluate(X_test, y_test, theta, plot=False):\n",
        "    X_test = np.hstack([X_test, np.ones((X_test.shape[0], 1))])\n",
        "    y_pred = linear_model(X_test, theta)\n",
        "    test_loss = mse(y_test, y_pred)\n",
        "    print(f'Test MSE loss: {test_loss}')\n",
        "    test_pearsonr = np.corrcoef(y_test, y_pred)[0, 1]\n",
        "    print(f'Test Pearson correlation: {test_pearsonr}')\n",
        "    if plot:\n",
        "        plt.scatter(y_pred, y_test,  color='blue', alpha=0.5)\n",
        "        plt.xlim([0, 400])\n",
        "        plt.ylim([0, 400])\n",
        "        plt.xlabel('Predicted Diabetes Progression- test set')\n",
        "        plt.ylabel('Actual Diabetes Progression- test set')\n",
        "        plt.show()\n",
        "\n",
        "def predict(X, theta):\n",
        "    X = np.hstack([X, np.ones((X.shape[0], 1))])\n",
        "    return linear_model(X, theta)"
      ]
    },
    {
      "cell_type": "markdown",
      "metadata": {
        "id": "SMVQvaTdUZ5I"
      },
      "source": [
        "Completing all the functions needed, we can randomly split the training and validation data at a ratio of 8:2 and apply our gradient descent algorithm to train a linear regression model on the training set. After training, we can evaluate the performance of the model on the validation set. You can tune the hyperparameters like learning rate and number of epochs to get better validation performance."
      ]
    },
    {
      "cell_type": "code",
      "execution_count": 22,
      "metadata": {
        "colab": {
          "base_uri": "https://localhost:8080/"
        },
        "id": "ovZiE6HPpeql",
        "outputId": "1c9554eb-2169-4e7d-dc39-af873759128f"
      },
      "outputs": [
        {
          "name": "stdout",
          "output_type": "stream",
          "text": [
            "X_train: (289, 10), y_train: (289,), X_test: (73, 10), y_test: (73,)\n",
            "Epoch 0 / 8000, training loss: 6233.84109609533\n",
            "Epoch 500 / 8000, training loss: 2932.4999435829777\n",
            "Epoch 1000 / 8000, training loss: 2777.198387398059\n",
            "Epoch 1500 / 8000, training loss: 2746.3987211297253\n",
            "Epoch 2000 / 8000, training loss: 2738.9938257775984\n",
            "Epoch 2500 / 8000, training loss: 2736.7919814231495\n",
            "Epoch 3000 / 8000, training loss: 2735.9342513502384\n",
            "Epoch 3500 / 8000, training loss: 2735.47468957235\n",
            "Epoch 4000 / 8000, training loss: 2735.148809627195\n",
            "Epoch 4500 / 8000, training loss: 2734.874193807226\n",
            "Epoch 5000 / 8000, training loss: 2734.6229113000204\n",
            "Epoch 5500 / 8000, training loss: 2734.3847917665744\n",
            "Epoch 6000 / 8000, training loss: 2734.155815245989\n",
            "Epoch 6500 / 8000, training loss: 2733.9341938641383\n",
            "Epoch 7000 / 8000, training loss: 2733.7189899144887\n",
            "Epoch 7500 / 8000, training loss: 2733.50961228473\n",
            "Test MSE loss: 3420.3838325322918\n",
            "Test Pearson correlation: 0.7165183224036528\n"
          ]
        }
      ],
      "source": [
        "X_train, y_train, X_val, y_val = random_split(X, y)\n",
        "theta = gradient_descent(X_train, y_train)\n",
        "evaluate(X_val, y_val, theta)"
      ]
    },
    {
      "cell_type": "markdown",
      "metadata": {
        "id": "IbTprsGXUZ5I"
      },
      "source": [
        "In addition to the one validation set we split, a common practice to validate a model's performance is to use k-fold cross validation. The following cell implement a k-fold validation using `KFold` from `sklearn`. Check the [documentation](https://scikit-learn.org/dev/modules/generated/sklearn.model_selection.KFold.html) for more details. You can also tune the hyperparameters based on the performance of the cross validation."
      ]
    },
    {
      "cell_type": "code",
      "execution_count": 23,
      "metadata": {
        "colab": {
          "base_uri": "https://localhost:8080/"
        },
        "id": "DIA2goAjUZ5I",
        "outputId": "29032ca9-419e-4e58-8b9a-3ac8332f1545"
      },
      "outputs": [
        {
          "name": "stdout",
          "output_type": "stream",
          "text": [
            "Train: 289, Test: 73\n",
            "Epoch 0 / 8000, training loss: 6753.817057082981\n",
            "Epoch 500 / 8000, training loss: 3072.025014061814\n",
            "Epoch 1000 / 8000, training loss: 2948.6133621030817\n",
            "Epoch 1500 / 8000, training loss: 2928.5425844431315\n",
            "Epoch 2000 / 8000, training loss: 2924.3809741765726\n",
            "Epoch 2500 / 8000, training loss: 2923.1718120303035\n",
            "Epoch 3000 / 8000, training loss: 2922.6398854808167\n",
            "Epoch 3500 / 8000, training loss: 2922.3039220517976\n",
            "Epoch 4000 / 8000, training loss: 2922.039678824272\n",
            "Epoch 4500 / 8000, training loss: 2921.8089592933397\n",
            "Epoch 5000 / 8000, training loss: 2921.5982153763207\n",
            "Epoch 5500 / 8000, training loss: 2921.401897402653\n",
            "Epoch 6000 / 8000, training loss: 2921.217285934204\n",
            "Epoch 6500 / 8000, training loss: 2921.0427478439824\n",
            "Epoch 7000 / 8000, training loss: 2920.8771166713864\n",
            "Epoch 7500 / 8000, training loss: 2920.719462330007\n",
            "MSE loss: 2681.760717053921, Pearson correlation: 0.6648187890655206\n",
            "Train: 289, Test: 73\n",
            "Epoch 0 / 8000, training loss: 6400.694809151676\n",
            "Epoch 500 / 8000, training loss: 2998.5438756794883\n",
            "Epoch 1000 / 8000, training loss: 2838.899415260201\n",
            "Epoch 1500 / 8000, training loss: 2805.9118835443837\n",
            "Epoch 2000 / 8000, training loss: 2797.8258977848236\n",
            "Epoch 2500 / 8000, training loss: 2795.5241639772535\n",
            "Epoch 3000 / 8000, training loss: 2794.766660649327\n",
            "Epoch 3500 / 8000, training loss: 2794.4699644315015\n",
            "Epoch 4000 / 8000, training loss: 2794.322827250229\n",
            "Epoch 4500 / 8000, training loss: 2794.2277473637496\n",
            "Epoch 5000 / 8000, training loss: 2794.152275367188\n",
            "Epoch 5500 / 8000, training loss: 2794.085112602456\n",
            "Epoch 6000 / 8000, training loss: 2794.0221547359088\n",
            "Epoch 6500 / 8000, training loss: 2793.9618280189206\n",
            "Epoch 7000 / 8000, training loss: 2793.9034761439507\n",
            "Epoch 7500 / 8000, training loss: 2793.8467872451015\n",
            "MSE loss: 3219.0688083047494, Pearson correlation: 0.6903035812238224\n",
            "Train: 290, Test: 72\n",
            "Epoch 0 / 8000, training loss: 6409.392467400658\n",
            "Epoch 500 / 8000, training loss: 2974.351223208962\n",
            "Epoch 1000 / 8000, training loss: 2812.4088557115265\n",
            "Epoch 1500 / 8000, training loss: 2779.40897409383\n",
            "Epoch 2000 / 8000, training loss: 2771.0541774054036\n",
            "Epoch 2500 / 8000, training loss: 2768.4320827817423\n",
            "Epoch 3000 / 8000, training loss: 2767.368930889915\n",
            "Epoch 3500 / 8000, training loss: 2766.7815005274306\n",
            "Epoch 4000 / 8000, training loss: 2766.353903109386\n",
            "Epoch 4500 / 8000, training loss: 2765.9866870258684\n",
            "Epoch 5000 / 8000, training loss: 2765.646767450546\n",
            "Epoch 5500 / 8000, training loss: 2765.322514572662\n",
            "Epoch 6000 / 8000, training loss: 2765.0095011761173\n",
            "Epoch 6500 / 8000, training loss: 2764.7058061392704\n",
            "Epoch 7000 / 8000, training loss: 2764.4104223718964\n",
            "Epoch 7500 / 8000, training loss: 2764.1227021978675\n",
            "MSE loss: 3320.224261608757, Pearson correlation: 0.6960277192471405\n",
            "Train: 290, Test: 72\n",
            "Epoch 0 / 8000, training loss: 6731.498204849182\n",
            "Epoch 500 / 8000, training loss: 3013.687907049715\n",
            "Epoch 1000 / 8000, training loss: 2851.6796779444403\n",
            "Epoch 1500 / 8000, training loss: 2824.514039900998\n",
            "Epoch 2000 / 8000, training loss: 2818.845945973526\n",
            "Epoch 2500 / 8000, training loss: 2817.1004997930904\n",
            "Epoch 3000 / 8000, training loss: 2816.199894652772\n",
            "Epoch 3500 / 8000, training loss: 2815.5327711044843\n",
            "Epoch 4000 / 8000, training loss: 2814.9574203989846\n",
            "Epoch 4500 / 8000, training loss: 2814.433930589837\n",
            "Epoch 5000 / 8000, training loss: 2813.9479899923067\n",
            "Epoch 5500 / 8000, training loss: 2813.49284407751\n",
            "Epoch 6000 / 8000, training loss: 2813.06437749605\n",
            "Epoch 6500 / 8000, training loss: 2812.659583845263\n",
            "Epoch 7000 / 8000, training loss: 2812.276028934171\n",
            "Epoch 7500 / 8000, training loss: 2811.911638619658\n",
            "MSE loss: 3191.8275318037486, Pearson correlation: 0.6176073710891079\n",
            "Train: 290, Test: 72\n",
            "Epoch 0 / 8000, training loss: 6558.660248055411\n",
            "Epoch 500 / 8000, training loss: 3063.3543287315697\n",
            "Epoch 1000 / 8000, training loss: 2921.472535325853\n",
            "Epoch 1500 / 8000, training loss: 2896.002764808413\n",
            "Epoch 2000 / 8000, training loss: 2890.873018253846\n",
            "Epoch 2500 / 8000, training loss: 2889.665702890675\n",
            "Epoch 3000 / 8000, training loss: 2889.2971928862075\n",
            "Epoch 3500 / 8000, training loss: 2889.1306507055474\n",
            "Epoch 4000 / 8000, training loss: 2889.019356766431\n",
            "Epoch 4500 / 8000, training loss: 2888.92544589624\n",
            "Epoch 5000 / 8000, training loss: 2888.8380787161122\n",
            "Epoch 5500 / 8000, training loss: 2888.753868274841\n",
            "Epoch 6000 / 8000, training loss: 2888.6716715191556\n",
            "Epoch 6500 / 8000, training loss: 2888.5910699525584\n",
            "Epoch 7000 / 8000, training loss: 2888.5118928831466\n",
            "Epoch 7500 / 8000, training loss: 2888.4340589242497\n",
            "MSE loss: 2748.8883647064063, Pearson correlation: 0.7241335116135993\n",
            "Average MSE loss: 3032.3539366955165\n",
            "Average Pearson correlation: 0.6785781944478381\n"
          ]
        }
      ],
      "source": [
        "from sklearn.model_selection import KFold\n",
        "\n",
        "def kfold_evaluation(X, y, k=5):\n",
        "    kf = KFold(n_splits=k)\n",
        "    mse_losses = []\n",
        "    pearsonrs = []\n",
        "    for train_index, val_index in kf.split(X):\n",
        "        print(f'Train: {len(train_index)}, Test: {len(val_index)}')\n",
        "        X_train, X_val = X.loc[train_index].to_numpy(), X.loc[val_index].to_numpy()\n",
        "        y_train, y_val = y.loc[train_index].to_numpy(), y.loc[val_index].to_numpy()\n",
        "        theta = gradient_descent(X_train, y_train)\n",
        "        X_val = np.hstack([X_val, np.ones((X_val.shape[0], 1))])\n",
        "        y_pred = linear_model(X_val, theta)\n",
        "        mse_loss = mse(y_val, y_pred)\n",
        "        pearsonr = np.corrcoef(y_val, y_pred)[0, 1]\n",
        "        print(f'MSE loss: {mse_loss}, Pearson correlation: {pearsonr}')\n",
        "        mse_losses.append(mse_loss)\n",
        "        pearsonrs.append(pearsonr)\n",
        "    return mse_losses, pearsonrs\n",
        "\n",
        "mse_losses, pearsonrs = kfold_evaluation(X, y)\n",
        "print(f'Average MSE loss: {np.mean(mse_losses)}')\n",
        "print(f'Average Pearson correlation: {np.mean(pearsonrs)}')"
      ]
    },
    {
      "cell_type": "markdown",
      "metadata": {
        "id": "yT55NqODUZ5I"
      },
      "source": [
        "After training and validation, we can train a model on all the available data using the hyperparameters we selected on the validation set. In the following cell, train a linear regression model and make predictions for the test set. The predictions will be saved.\n",
        "\n",
        "We will evaluate your predictions with the ground truth labels using Pearson correlation. Grading metric for Task 3:\n",
        "- 8 points: correlation >= 0.7\n",
        "- 7 points: correlation >= 0.65\n",
        "- 6 points: correlation >= 0.6\n",
        "- 5 points: correlation >= 0.5\n",
        "- 0 points: correlation < 0.5"
      ]
    },
    {
      "cell_type": "code",
      "execution_count": null,
      "metadata": {
        "colab": {
          "base_uri": "https://localhost:8080/"
        },
        "id": "bgk7Ri96UZ5I",
        "outputId": "f88944da-cc1b-4d28-850a-ca200a47d162"
      },
      "outputs": [
        {
          "name": "stdout",
          "output_type": "stream",
          "text": [
            "Epoch 0 / 8000, training loss: 13619.202017524032\n",
            "Epoch 500 / 8000, training loss: 3037.445522131024\n",
            "Epoch 1000 / 8000, training loss: 2890.829423674874\n",
            "Epoch 1500 / 8000, training loss: 2864.495335600875\n",
            "Epoch 2000 / 8000, training loss: 2858.853545263563\n",
            "Epoch 2500 / 8000, training loss: 2857.360550583956\n",
            "Epoch 3000 / 8000, training loss: 2856.8334793782674\n",
            "Epoch 3500 / 8000, training loss: 2856.5646513398556\n",
            "Epoch 4000 / 8000, training loss: 2856.373422555739\n",
            "Epoch 4500 / 8000, training loss: 2856.2082711962103\n",
            "Epoch 5000 / 8000, training loss: 2856.0533371760353\n",
            "Epoch 5500 / 8000, training loss: 2855.903490565359\n",
            "Epoch 6000 / 8000, training loss: 2855.757007263653\n",
            "Epoch 6500 / 8000, training loss: 2855.6132784702286\n",
            "Epoch 7000 / 8000, training loss: 2855.4720676351308\n",
            "Epoch 7500 / 8000, training loss: 2855.333264373376\n"
          ]
        }
      ],
      "source": [
        "df_test = pd.read_csv('reg_test.csv')\n",
        "X_test = df_test.iloc[:,0:10].to_numpy()\n",
        "\n",
        "X_all, y_all = X.to_numpy(), y.to_numpy()\n",
        "X_all = np.hstack([X_all, np.ones((X_all.shape[0], 1))])\n",
        "######################################################\n",
        "# train the model on the entire dataset and predict the target values for the test set. y_pred should be a 1D np.array\n",
        "X_test = np.hstack([X_test, np.ones((X_test.shape[0], 1))])\n",
        "theta = gradient_descent(X_all,y_all)\n",
        "y_pred = predict(X_test,theta)\n",
        "######################################################\n",
        "np.savetxt('reg_pred.csv', y_pred, delimiter=',', fmt='%f')"
      ]
    },
    {
      "cell_type": "markdown",
      "metadata": {
        "id": "9xdVjvkXUZ5I"
      },
      "source": [
        "## Task 4: Linear regression using `sklearn` (4 points)\n",
        "\n",
        "In the above we have implemented linear regression from scratch. `sklearn` offers a unified interface of many commonly used machine learning models, including linear regression. Check `sklearn` [documentation](https://scikit-learn.org/1.5/modules/generated/sklearn.linear_model.LinearRegression.html) and complete the following code.\n",
        "\n",
        "We will evaluate your predictions on the test set with the ground truth labels using Pearson correlation. Grading metric:\n",
        "\n",
        "- 4 points: correlation >= 0.7\n",
        "- 3 points: correlation >= 0.65\n",
        "- 2 points: correlation >= 0.6\n",
        "- 0 points: correlation < 0.6"
      ]
    },
    {
      "cell_type": "code",
      "execution_count": null,
      "metadata": {
        "colab": {
          "base_uri": "https://localhost:8080/"
        },
        "id": "tij8bwk0p6zz",
        "outputId": "2db243c5-d85c-4e53-c560-240dedb60811"
      },
      "outputs": [
        {
          "name": "stdout",
          "output_type": "stream",
          "text": [
            "Test MSE loss: 3408.629813731668\n",
            "Test Pearson correlation: 0.702550422323769\n"
          ]
        },
        {
          "data": {
            "text/plain": [
              "(3408.629813731668, 0.702550422323769)"
            ]
          },
          "execution_count": 25,
          "metadata": {},
          "output_type": "execute_result"
        }
      ],
      "source": [
        "from sklearn.linear_model import LinearRegression\n",
        "from sklearn.metrics import mean_squared_error\n",
        "from sklearn.model_selection import train_test_split\n",
        "\n",
        "def sklearn_LR(X, y):\n",
        "    X_train, X_val, y_train, y_val = train_test_split(X, y, test_size=0.14, random_state=0)\n",
        "    model = LinearRegression()\n",
        "    ######################################################\n",
        "    # train the model and predict the target values\n",
        "    model.fit(X_train,y_train)\n",
        "    y_pred = model.predict(X_val)\n",
        "    ######################################################\n",
        "    test_loss = mean_squared_error(y_val, y_pred)\n",
        "    print(f'Test MSE loss: {test_loss}')\n",
        "    test_pearsonr = np.corrcoef(y_val, y_pred)[0, 1]\n",
        "    print(f'Test Pearson correlation: {test_pearsonr}')\n",
        "\n",
        "    return test_loss, test_pearsonr\n",
        "\n",
        "sklearn_LR(X, y)"
      ]
    },
    {
      "cell_type": "markdown",
      "metadata": {
        "id": "JyVO59_RUZ5I"
      },
      "source": [
        "Similarly, train sklearn's linear regression model with all the training data and make predictions for the test set."
      ]
    },
    {
      "cell_type": "code",
      "execution_count": null,
      "metadata": {
        "id": "i1tO-8HWUZ5I"
      },
      "outputs": [],
      "source": [
        "df_test = pd.read_csv('reg_test.csv')\n",
        "X_test = df_test.iloc[:,0:10].to_numpy()\n",
        "\n",
        "X_all, y_all = X.to_numpy(), y.to_numpy()\n",
        "\n",
        "model = LinearRegression()\n",
        "######################################################\n",
        "# train the model and predict the target values\n",
        "model.fit(X_all,y_all)\n",
        "y_pred = model.predict(X_test)\n",
        "######################################################\n",
        "np.savetxt('reg_pred_sklearn_LR.csv', y_pred, delimiter=',', fmt='%f')"
      ]
    },
    {
      "cell_type": "markdown",
      "metadata": {
        "id": "muGITDAMSxvK"
      },
      "source": [
        "## Submission\n",
        "\n",
        "After completing all the tasks, run all the cells in this notebook to generate the prediction files. You need to submit three files to Gradescope for grading:\n",
        "\n",
        "1. `hw2_regression.ipynb`, the notebook file with all the TODO blocks completed.\n",
        "2. `reg_pred.csv`, the predictions made by the linear regression model implemented from scratch.\n",
        "3. `reg_pred_sklearn_LR.csv`, the predictions made by the sklearn linear regression model.\n",
        "\n",
        "Please submit all three files individually to Gradescope (**NOT** in a zip file).\n",
        "\n"
      ]
    },
    {
      "cell_type": "code",
      "execution_count": null,
      "metadata": {
        "id": "39inNdErp63o"
      },
      "outputs": [],
      "source": []
    }
  ],
  "metadata": {
    "accelerator": "GPU",
    "colab": {
      "gpuType": "T4",
      "provenance": []
    },
    "kernelspec": {
      "display_name": "Python 3",
      "name": "python3"
    },
    "language_info": {
      "codemirror_mode": {
        "name": "ipython",
        "version": 3
      },
      "file_extension": ".py",
      "mimetype": "text/x-python",
      "name": "python",
      "nbconvert_exporter": "python",
      "pygments_lexer": "ipython3",
      "version": "3.8.19"
    }
  },
  "nbformat": 4,
  "nbformat_minor": 0
}
