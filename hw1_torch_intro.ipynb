{
  "cells": [
    {
      "cell_type": "markdown",
      "metadata": {
        "id": "m9FcreJNEfoa"
      },
      "source": [
        "# Brief Introduction to PyTorch\n",
        "\n",
        "---\n",
        "\n",
        "\n",
        "\n",
        "In this notebook, we will introduce some basical usage of PyTorch. You can get familiar with PyTorch by reading from start. In the end you have to complete some codes and submit them."
      ]
    },
    {
      "cell_type": "markdown",
      "metadata": {
        "id": "gHG7Lzx9Eh6O"
      },
      "source": [
        "## Environment\n",
        "To running this code, you have to prepare a python environment. We recommend python version >= 3.8. You will need to install `torch`, `numpy` and `jupyter` packages. And in order to run the tests locally, you also need to install `scikit-learn` and `matplotlib`."
      ]
    },
    {
      "cell_type": "code",
      "execution_count": null,
      "metadata": {
        "id": "_ikfRm9HElEi"
      },
      "outputs": [],
      "source": [
        "import torch\n",
        "import numpy as np"
      ]
    },
    {
      "cell_type": "markdown",
      "metadata": {
        "id": "n2NMHL3XEqT-"
      },
      "source": [
        "## Data Type (Tensor)\n",
        "The math operations in PyTorch is based on Tensors, just like most of the operations in numpy is based on numpy arrays. In practical usage, tensors are similar to arrays in numpy, which can represent matrics of high dimensions. For example, a tensor can be used to represent not only a one-bit array, but also a two-dimensional matrix and an image with rgb3 channels.\n",
        "\n",
        "### Tensor Creation\n",
        "\n",
        "There are a few ways to create tensors in PyTorch, the easiest way is to create from a Python List."
      ]
    },
    {
      "cell_type": "code",
      "execution_count": null,
      "metadata": {
        "colab": {
          "base_uri": "https://localhost:8080/"
        },
        "id": "ur0UnBf7EsqU",
        "outputId": "d22c2d3a-8c55-45d2-d137-f952de5cb07b"
      },
      "outputs": [
        {
          "name": "stdout",
          "output_type": "stream",
          "text": [
            "tensor([[1, 2, 3],\n",
            "        [4, 5, 6]])\n"
          ]
        }
      ],
      "source": [
        "a = torch.tensor([[1,2,3], [4,5,6]])\n",
        "print(a)"
      ]
    },
    {
      "cell_type": "markdown",
      "metadata": {
        "id": "IMDT8mYiEvzy"
      },
      "source": [
        "We can also create a tensor from a numpy array."
      ]
    },
    {
      "cell_type": "code",
      "execution_count": null,
      "metadata": {
        "colab": {
          "base_uri": "https://localhost:8080/"
        },
        "id": "tBc-S8ZbEwYf",
        "outputId": "34f1fbed-26aa-4629-cfdb-3523b4418f78"
      },
      "outputs": [
        {
          "name": "stdout",
          "output_type": "stream",
          "text": [
            "tensor([[6, 5, 4],\n",
            "        [3, 2, 1]])\n"
          ]
        }
      ],
      "source": [
        "b_array = np.array([[6,5,4], [3,2,1]])\n",
        "b = torch.from_numpy(b_array)\n",
        "print(b)"
      ]
    },
    {
      "cell_type": "markdown",
      "metadata": {
        "id": "2eisr3vgEyZs"
      },
      "source": [
        "Similar to numpy, we can create some special values directly."
      ]
    },
    {
      "cell_type": "code",
      "execution_count": null,
      "metadata": {
        "colab": {
          "base_uri": "https://localhost:8080/"
        },
        "id": "3uJIShSME3Mo",
        "outputId": "56826be3-a077-4ab9-95f0-97c7db5a2eb2"
      },
      "outputs": [
        {
          "name": "stdout",
          "output_type": "stream",
          "text": [
            "tensor([[0.1550, 0.2200, 0.9260],\n",
            "        [0.3989, 0.6363, 0.6292]])\n",
            "tensor([[1., 1.]])\n",
            "tensor([[0., 0., 0.],\n",
            "        [0., 0., 0.]])\n",
            "tensor([[1., 0., 0.],\n",
            "        [0., 1., 0.],\n",
            "        [0., 0., 1.]])\n"
          ]
        }
      ],
      "source": [
        "rand_v = torch.rand(size=(2, 3), dtype=torch.float32)\n",
        "ones_v = torch.ones(size=(2, 3), dtype=torch.float32)\n",
        "zeros_v = torch.zeros(size=(2,3), dtype=torch.float32)\n",
        "diag_v = torch.eye(3, dtype=torch.float32)\n",
        "\n",
        "print(rand_v)\n",
        "print(ones_v)\n",
        "print(zeros_v)\n",
        "print(diag_v)"
      ]
    },
    {
      "cell_type": "markdown",
      "metadata": {
        "id": "D22n0tF1E5SA"
      },
      "source": [
        "### Tensor Operation\n",
        "\n",
        "We can index tensors in a similar way to numpy."
      ]
    },
    {
      "cell_type": "code",
      "execution_count": null,
      "metadata": {
        "colab": {
          "base_uri": "https://localhost:8080/"
        },
        "id": "onod04GgE7KM",
        "outputId": "51fc3d93-29c7-4d38-b615-9c27cebdae12"
      },
      "outputs": [
        {
          "name": "stdout",
          "output_type": "stream",
          "text": [
            "tensor([[1, 2, 3],\n",
            "        [4, 5, 6]])\n",
            "tensor([3, 6])\n",
            "tensor(6)\n"
          ]
        }
      ],
      "source": [
        "a = torch.tensor([[1,2,3], [4,5,6]])\n",
        "\n",
        "print(a)\n",
        "\n",
        "print(a[:, 2])\n",
        "\n",
        "print(a[1, 2])"
      ]
    },
    {
      "cell_type": "markdown",
      "metadata": {
        "id": "o_3vCBv8E86f"
      },
      "source": [
        "Tensors also support many arithmetic operations similar to numpy."
      ]
    },
    {
      "cell_type": "code",
      "execution_count": null,
      "metadata": {
        "colab": {
          "base_uri": "https://localhost:8080/"
        },
        "id": "z1jCyr5YE_QW",
        "outputId": "a97bd609-6cbd-40c9-b99f-d61dc7309838"
      },
      "outputs": [
        {
          "data": {
            "text/plain": [
              "tensor([[1, 2, 3],\n",
              "        [4, 5, 6]])"
            ]
          },
          "execution_count": 6,
          "metadata": {},
          "output_type": "execute_result"
        }
      ],
      "source": [
        "# Create a 2x3 tensor\n",
        "a = torch.tensor([[1,2,3], [4,5,6]])\n",
        "a"
      ]
    },
    {
      "cell_type": "code",
      "execution_count": null,
      "metadata": {
        "colab": {
          "base_uri": "https://localhost:8080/"
        },
        "id": "u3OuZuyCFAuj",
        "outputId": "2237846f-b996-4d18-aba7-e3376e9be82e"
      },
      "outputs": [
        {
          "name": "stdout",
          "output_type": "stream",
          "text": [
            "tensor([[3, 4, 5],\n",
            "        [6, 7, 8]])\n",
            "tensor([[ 9, 12, 15],\n",
            "        [18, 21, 24]])\n"
          ]
        }
      ],
      "source": [
        "# Elementwise addition and multiplication with a constant number\n",
        "a = a + 2\n",
        "print(a)\n",
        "\n",
        "a = a * 3\n",
        "print(a)"
      ]
    },
    {
      "cell_type": "code",
      "execution_count": null,
      "metadata": {
        "colab": {
          "base_uri": "https://localhost:8080/"
        },
        "id": "UR0kJrKZFCFP",
        "outputId": "3056df43-4ade-4f82-a8cb-0270914ba807"
      },
      "outputs": [
        {
          "name": "stdout",
          "output_type": "stream",
          "text": [
            "tensor([[6., 6., 6.],\n",
            "        [6., 6., 6.],\n",
            "        [6., 6., 6.]])\n"
          ]
        }
      ],
      "source": [
        "# Elementwise multiplication between two tensors\n",
        "a = torch.ones(size=(3, 3)) * 2\n",
        "b = torch.ones(size=(3, 3)) * 3\n",
        "c = a * b\n",
        "print(c)"
      ]
    },
    {
      "cell_type": "code",
      "execution_count": null,
      "metadata": {
        "colab": {
          "base_uri": "https://localhost:8080/"
        },
        "id": "G5BGjQyVFChv",
        "outputId": "e7d354aa-42a9-49aa-fb8c-dbfe66160425"
      },
      "outputs": [
        {
          "name": "stdout",
          "output_type": "stream",
          "text": [
            "tensor([[1, 2],\n",
            "        [3, 4]])\n",
            "tensor([[5, 6],\n",
            "        [7, 8]])\n",
            "tensor([[19, 22],\n",
            "        [43, 50]])\n"
          ]
        }
      ],
      "source": [
        "# Matrix multiplication\n",
        "a = torch.tensor([[1, 2], [3, 4]])\n",
        "print(a)\n",
        "b = torch.tensor([[5, 6], [7, 8]])\n",
        "print(b)\n",
        "c = torch.matmul(a, b)\n",
        "print(c)"
      ]
    },
    {
      "cell_type": "code",
      "execution_count": null,
      "metadata": {
        "colab": {
          "base_uri": "https://localhost:8080/"
        },
        "id": "-g8OEMVLFEwV",
        "outputId": "31239409-25da-46b4-b998-673e3dde4a61"
      },
      "outputs": [
        {
          "name": "stdout",
          "output_type": "stream",
          "text": [
            "tensor([[1, 2],\n",
            "        [3, 4]])\n",
            "tensor([6, 7])\n",
            "tensor([20, 46])\n"
          ]
        }
      ],
      "source": [
        "# Matrix multiply vector\n",
        "a = torch.tensor([[1, 2], [3, 4]])\n",
        "print(a)\n",
        "v = torch.tensor([6, 7])\n",
        "print(v)\n",
        "c = torch.matmul(a, v)\n",
        "print(c)"
      ]
    },
    {
      "cell_type": "markdown",
      "metadata": {
        "id": "E2LcctyxJ14s"
      },
      "source": [
        "## Matrix Operation\n",
        "In PyTorch, 2D tensors can be viewed as matrices. And torch supports some common operations on matrices.\n",
        "\n",
        "### Inverse Matrix and Pseudoinverse Matrix\n",
        "Pytorch supports operations to find the inverse and pseudoinverse of a matrix."
      ]
    },
    {
      "cell_type": "code",
      "execution_count": null,
      "metadata": {
        "colab": {
          "base_uri": "https://localhost:8080/"
        },
        "id": "pwERNMJRJ4Ez",
        "outputId": "f6803991-14ef-410e-e01e-2f5142dee938"
      },
      "outputs": [
        {
          "name": "stdout",
          "output_type": "stream",
          "text": [
            "A x A':\n",
            "tensor([[1., 0.],\n",
            "        [0., 1.]])\n",
            "B x pinv(B)\n",
            "tensor([[ 1.0000e+00,  1.1921e-07],\n",
            "        [-1.1921e-07,  1.0000e+00]])\n"
          ]
        }
      ],
      "source": [
        "# inverse of a matrix\n",
        "a = torch.tensor([[1, 2], [3, 4]], dtype=torch.float32)\n",
        "a_inv = torch.linalg.inv(a)\n",
        "print(\"A x A':\")\n",
        "print(torch.matmul(a, a_inv))\n",
        "\n",
        "# pseudoinverse of a matrix\n",
        "b = torch.rand(size=(2, 2), dtype=torch.float32)\n",
        "b_pinv = torch.linalg.pinv(b)\n",
        "print(\"B x pinv(B)\")\n",
        "print(torch.matmul(b, b_pinv))"
      ]
    },
    {
      "cell_type": "markdown",
      "metadata": {
        "id": "PAMijxO6J4m0"
      },
      "source": [
        "### Transpose of a matrix\n",
        "Pytorch supports transpose operation for 2D tensor"
      ]
    },
    {
      "cell_type": "code",
      "execution_count": null,
      "metadata": {
        "colab": {
          "base_uri": "https://localhost:8080/"
        },
        "id": "rs3K6w0XJ5_b",
        "outputId": "5ddb0ddd-1d6e-4faa-c6d3-60f22e816cef"
      },
      "outputs": [
        {
          "name": "stdout",
          "output_type": "stream",
          "text": [
            "tensor([[1., 2.],\n",
            "        [3., 4.]])\n",
            "tensor([[1., 3.],\n",
            "        [2., 4.]])\n"
          ]
        }
      ],
      "source": [
        "# transpose of a matrix\n",
        "a = torch.tensor([[1, 2], [3, 4]], dtype=torch.float32)\n",
        "print(a)\n",
        "a_T = torch.t(a)\n",
        "print(a_T)"
      ]
    },
    {
      "cell_type": "markdown",
      "metadata": {
        "id": "MHnFcxEQJ7XT"
      },
      "source": [
        "### Concatenate matrices\n",
        "You can concatenate multiple matrices using PyTorch."
      ]
    },
    {
      "cell_type": "code",
      "execution_count": null,
      "metadata": {
        "colab": {
          "base_uri": "https://localhost:8080/"
        },
        "id": "Llxt_iJcJ8qn",
        "outputId": "f539133c-ec88-4a4f-feaa-3d7b76dbc546"
      },
      "outputs": [
        {
          "name": "stdout",
          "output_type": "stream",
          "text": [
            "tensor([[1, 2, 5, 6],\n",
            "        [3, 4, 7, 8]])\n",
            "tensor([[1, 2],\n",
            "        [3, 4],\n",
            "        [5, 6],\n",
            "        [7, 8]])\n"
          ]
        }
      ],
      "source": [
        "a = torch.tensor([[1, 2], [3, 4]])\n",
        "b = torch.tensor([[5, 6], [7, 8]])\n",
        "c = torch.cat((a, b), dim=1)\n",
        "print(c)\n",
        "d = torch.cat((a, b), dim=0)\n",
        "print(d)"
      ]
    },
    {
      "cell_type": "markdown",
      "metadata": {
        "id": "eFcvp9boADJ3"
      },
      "source": [
        "### PyTorch Documentation\n",
        "A good way to learn PyTorch operations is to look up the documentation (https://pytorch.org/docs/stable/index.html). Some of the tasks in the following involve simple PyTorch operations that you can find in the documentation."
      ]
    },
    {
      "cell_type": "markdown",
      "metadata": {
        "id": "jI9zVqbdFLbw"
      },
      "source": [
        "## Task 1 (2 points)\n",
        "Complete a function that returns a diagonal matrix of dtype torch.float32, and the values on the diagonal are all the same as the input value x."
      ]
    },
    {
      "cell_type": "code",
      "execution_count": null,
      "metadata": {
        "colab": {
          "base_uri": "https://localhost:8080/"
        },
        "id": "spETUZM9JjfH",
        "outputId": "31ce6d1c-9d2f-404b-8ca9-26de3e3db1e7"
      },
      "outputs": [
        {
          "data": {
            "text/plain": [
              "tensor([[3., 0., 0.],\n",
              "        [0., 3., 0.],\n",
              "        [0., 0., 3.]])"
            ]
          },
          "execution_count": 37,
          "metadata": {},
          "output_type": "execute_result"
        }
      ],
      "source": [
        "#export\n",
        "import torch\n",
        "### DO NOT CHANGE ANY CODE ABOVE THIS LINE IN THIS CELL ###\n",
        "def diag_matrix(n, x):\n",
        "    '''\n",
        "    Inputs:\n",
        "    n: number of rows and columns\n",
        "    x: the diagnal value\n",
        "    Output:\n",
        "    D: 2D tensor of shape (n, n)\n",
        "    '''\n",
        "    # complete this function, return a tensor with the shape n x n, and the values on the diagonal are all x, all other values are zero\n",
        "    return x * torch.eye(n,dtype=torch.float32)\n",
        "diag_matrix(3,3)"
      ]
    },
    {
      "cell_type": "markdown",
      "metadata": {
        "id": "cyC2tAPWJ_fV"
      },
      "source": [
        "## Task 2 (2 points)\n",
        "Complete a function that returns the mean square loss (MSE) of two given 1D tensors. Note that the MSE loss $L_{\\text{MSE}}=\\dfrac{1}{n}\\Vert y_{\\text{true}}-y_{\\text{pred}}\\Vert_2^2$, $y_{\\text{true}}, y_{\\text{pred}}\\in\\mathbb{R}^n$"
      ]
    },
    {
      "cell_type": "code",
      "execution_count": null,
      "metadata": {
        "colab": {
          "base_uri": "https://localhost:8080/"
        },
        "id": "BRD_BxO8KD3X",
        "outputId": "95e215c7-cdff-49f3-88ea-af31c8a4fe21"
      },
      "outputs": [
        {
          "data": {
            "text/plain": [
              "tensor(0.2800)"
            ]
          },
          "execution_count": 1,
          "metadata": {},
          "output_type": "execute_result"
        }
      ],
      "source": [
        "#export\n",
        "import torch\n",
        "### DO NOT CHANGE ANY CODE ABOVE THIS LINE IN THIS CELL ###\n",
        "def mean_square_loss(y_true, y_pred):\n",
        "    '''\n",
        "    Inputs:\n",
        "    y_true: 1D tensor of shape (n)\n",
        "    y_pred: 1D tensor of shape (n)\n",
        "    Output:\n",
        "    loss: tensor containing the mean square loss of y_true and y_pred\n",
        "    '''\n",
        "    # complete this function, return a tensor with one float, the mean square loss of y_true and y_pred.\n",
        "    loss = torch.nn.MSELoss()\n",
        "    return loss(y_true,y_pred)\n",
        "mean_square_loss(torch.Tensor([1.0,2.0,3.0]),torch.Tensor([1.8,2.4,2.8]))"
      ]
    },
    {
      "cell_type": "markdown",
      "metadata": {
        "id": "S1YnU97hWIpV"
      },
      "source": [
        "## Task 3 (2 points)\n",
        "Complete a function that extracts all even-indexed rows of a given 2D tensor."
      ]
    },
    {
      "cell_type": "code",
      "execution_count": null,
      "metadata": {
        "colab": {
          "base_uri": "https://localhost:8080/"
        },
        "id": "b2dHVeXLW2Pq",
        "outputId": "3a2c7194-0f89-4f43-f4f6-ec824b25bd0e"
      },
      "outputs": [
        {
          "data": {
            "text/plain": [
              "tensor([[0.9703, 0.8962, 0.6179],\n",
              "        [0.3915, 0.9240, 0.2542]])"
            ]
          },
          "execution_count": 66,
          "metadata": {},
          "output_type": "execute_result"
        }
      ],
      "source": [
        "#export\n",
        "import torch\n",
        "### DO NOT CHANGE ANY CODE ABOVE THIS LINE IN THIS CELL ###\n",
        "def extract_even_rows(matrix):\n",
        "    '''\n",
        "    Inputs:\n",
        "    matrix: 2D tensor of shape (n, m)\n",
        "    Output:\n",
        "    matrix_even: 2D tensor of all even-indexed rows of matrix, e.g. 0, 2, 4...\n",
        "    '''\n",
        "    # return a tensor containing all even-indexed rows of matrix\n",
        "    return matrix[::2]\n",
        "extract_even_rows(torch.rand(3,3))"
      ]
    },
    {
      "cell_type": "markdown",
      "metadata": {
        "id": "MzegDJylezYh"
      },
      "source": [
        "## Task 4 (2 points)\n",
        "Complete a function that takes a 2D tensor and returns a new 1D tensor consisting of the elements in the specified column of the original tensor that are greater than a specified value threshold."
      ]
    },
    {
      "cell_type": "code",
      "execution_count": null,
      "metadata": {
        "colab": {
          "base_uri": "https://localhost:8080/"
        },
        "id": "cdgHhh06e2kO",
        "outputId": "9311d620-3c7b-4bb5-a211-1fc282c34c57"
      },
      "outputs": [
        {
          "data": {
            "text/plain": [
              "tensor([0.8765, 0.7728, 0.4371])"
            ]
          },
          "execution_count": 84,
          "metadata": {},
          "output_type": "execute_result"
        }
      ],
      "source": [
        "#export\n",
        "import torch\n",
        "### DO NOT CHANGE ANY CODE ABOVE THIS LINE IN THIS CELL ###\n",
        "def filter_column(tensor, column_idx, threshold):\n",
        "    \"\"\"\n",
        "    Returns elements from the column with index column_idx of the tensor that are greater than the threshold.\n",
        "    \"\"\"\n",
        "    # Implement this function\n",
        "    column = tensor[:,column_idx] #This reminds me of pandas slicing and indexing\n",
        "    elements = column[column > threshold]\n",
        "    return elements\n",
        "filter_column(torch.rand(3,3),1,0.13)"
      ]
    },
    {
      "cell_type": "markdown",
      "metadata": {
        "id": "U4D19lWR-VML"
      },
      "source": [
        "## Task 5 (1 points)\n",
        "Given an input tensor, returns a tensor with all dimensions of size 1 removed. (Hint: PyTorch has a function for this operation, look up the documentation.)"
      ]
    },
    {
      "cell_type": "code",
      "execution_count": null,
      "metadata": {
        "colab": {
          "base_uri": "https://localhost:8080/"
        },
        "id": "ada-1ygg-YCd",
        "outputId": "0af93639-832a-4a1e-df0e-740f04b6970b"
      },
      "outputs": [
        {
          "name": "stdout",
          "output_type": "stream",
          "text": [
            "torch.Size([2, 1, 2, 1, 2])\n"
          ]
        },
        {
          "data": {
            "text/plain": [
              "tensor([[[0., 0.],\n",
              "         [0., 0.]],\n",
              "\n",
              "        [[0., 0.],\n",
              "         [0., 0.]]])"
            ]
          },
          "execution_count": 2,
          "metadata": {},
          "output_type": "execute_result"
        }
      ],
      "source": [
        "#export\n",
        "import torch\n",
        "### DO NOT CHANGE ANY CODE ABOVE THIS LINE IN THIS CELL ###\n",
        "def remove_dim(tensor):\n",
        "    \"\"\"\n",
        "    Returns a tensor with all specified dimensions of input tensor of size 1 removed.\n",
        "    \"\"\"\n",
        "    # Implement this function\n",
        "    print(tensor.size())\n",
        "    return torch.squeeze(tensor)\n",
        "remove_dim(torch.zeros(2,1,2,1,2))"
      ]
    },
    {
      "cell_type": "markdown",
      "metadata": {
        "id": "tUQK7_7XAzOG"
      },
      "source": [
        "## Task 6 (1 points)\n",
        "Complete a function that clamps all values of a given tensor into a specified range [min_val, max_val]. (Hint: PyTorch has a function for this operation, look up the documentation.)"
      ]
    },
    {
      "cell_type": "code",
      "execution_count": null,
      "metadata": {
        "colab": {
          "base_uri": "https://localhost:8080/"
        },
        "id": "n9gHa1xCA54D",
        "outputId": "ab269214-6cd6-4239-c9eb-87b1531e0f0a"
      },
      "outputs": [
        {
          "name": "stdout",
          "output_type": "stream",
          "text": [
            "tensor([[0.2971, 0.0233, 0.9067],\n",
            "        [0.5813, 0.0475, 0.0564],\n",
            "        [0.5598, 0.8851, 0.3897]])\n"
          ]
        },
        {
          "data": {
            "text/plain": [
              "tensor([[0.5000, 0.5000, 0.9000],\n",
              "        [0.5813, 0.5000, 0.5000],\n",
              "        [0.5598, 0.8851, 0.5000]])"
            ]
          },
          "execution_count": 105,
          "metadata": {},
          "output_type": "execute_result"
        }
      ],
      "source": [
        "#export\n",
        "import torch\n",
        "### DO NOT CHANGE ANY CODE ABOVE THIS LINE IN THIS CELL ###\n",
        "def clamp_tensor(tensor, min_val, max_val):\n",
        "    \"\"\"\n",
        "    Clamps the tensor values to the range [min_val, max_val].\n",
        "    \"\"\"\n",
        "    # Implement this function\n",
        "    print(tensor)\n",
        "    return torch.clamp(tensor,min_val,max_val)\n",
        "clamp_tensor(torch.rand(3,3),0.5,0.9)"
      ]
    },
    {
      "cell_type": "markdown",
      "metadata": {
        "id": "IqPkoToSA5-9"
      },
      "source": [
        "## Submission\n",
        "Ensure you've thoroughly tested your code locally before submitting it for evaluation. Your submission to Gradescope should be this .ipynb file named `hw1_torch_intro.ipynb`.\n",
        "\n",
        "### Submission Checklist:\n",
        "\n",
        "Ensure your submission contains the following items:\n",
        "\n",
        "1. `hw1_torch_intro.ipynb`: The torch jupyter notebook containing all your code and answers.\n",
        "\n",
        "### Submission Instructions:\n",
        "\n",
        "- **File Format**: Submit this file `hw1_torch_intro.ipynb`.\n",
        "- **Validation**: Before submitting, verify your code runs as expected and all outputs align with anticipated results."
      ]
    }
  ],
  "metadata": {
    "accelerator": "GPU",
    "colab": {
      "gpuType": "T4",
      "provenance": []
    },
    "kernelspec": {
      "display_name": "Python 3",
      "name": "python3"
    },
    "language_info": {
      "name": "python"
    }
  },
  "nbformat": 4,
  "nbformat_minor": 0
}
